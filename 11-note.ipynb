{
 "cells": [
  {
   "cell_type": "code",
   "execution_count": 3,
   "metadata": {
    "collapsed": true
   },
   "outputs": [],
   "source": [
    "\"\"\"問128\"\"\"\n",
    "\n",
    "with open('c:/cit/test.txt', 'w', encoding='utf-8') as test_file:\n",
    "    test_file.write('こんにちは')"
   ]
  },
  {
   "cell_type": "code",
   "execution_count": null,
   "metadata": {
    "collapsed": true
   },
   "outputs": [],
   "source": [
    "\"\"\"問129\"\"\"\n",
    "\n",
    "with open('c:/cit/test.txt', 'a', encoding='utf-8') as test_file:\n",
    "    test_file.write('こんにちは')"
   ]
  },
  {
   "cell_type": "markdown",
   "metadata": {},
   "source": [
    "with open(ファイル名,'w',encoding='utf-8') as 変数名:\n",
    "    変数を使ったプログラム\n",
    "    \n",
    "#ファイルに何かを保存したかったらこれを使う\n",
    "#「w」は書き込め(上書き)という意味\n",
    "#「a」は追記という意味\n",
    "#ファイル名とファイルの扱い方とエンコーディングを教える\n",
    "#as以下は何でもよい"
   ]
  },
  {
   "cell_type": "code",
   "execution_count": 4,
   "metadata": {
    "collapsed": true
   },
   "outputs": [],
   "source": [
    "\"\"\"問130\"\"\"\n",
    "\n",
    "with open('c:/cit/record.txt', 'w', encoding='utf-8') as record_file:\n",
    "    for x in range(1,101):\n",
    "        record_file.write(str(x)+'\\n')"
   ]
  },
  {
   "cell_type": "code",
   "execution_count": 20,
   "metadata": {
    "collapsed": false
   },
   "outputs": [],
   "source": [
    "\"\"\"問131\"\"\"\n",
    "\n",
    "with open('c:/cit/record.csv', 'w', encoding='utf-8') as record2_file:\n",
    "    for i in range(1,10):\n",
    "        for j in range(1,10):\n",
    "            record2_file.write(str(i * j)+',')     #「，」で区切るとエクセルではセルで区切ってくれる\n",
    "        record2_file.write('\\n')"
   ]
  },
  {
   "cell_type": "code",
   "execution_count": 26,
   "metadata": {
    "collapsed": false
   },
   "outputs": [],
   "source": [
    "\"\"\"問133\"\"\"\n",
    "\n",
    "with open('c:/cit/test2.txt', 'w', encoding='utf-8') as test2_file:\n",
    "    test2_file.write('1,2,3,4\\n5,6,7,8\\n')"
   ]
  },
  {
   "cell_type": "code",
   "execution_count": 23,
   "metadata": {
    "collapsed": false
   },
   "outputs": [
    {
     "name": "stdout",
     "output_type": "stream",
     "text": [
      "こんにちはこんにちは\n"
     ]
    }
   ],
   "source": [
    "\"\"\"問134\"\"\"\n",
    "\n",
    "with open('c:/cit/test.txt', 'r', encoding='utf-8') as test_file:\n",
    "    for line in test_file:\n",
    "        print(line)"
   ]
  },
  {
   "cell_type": "code",
   "execution_count": 24,
   "metadata": {
    "collapsed": false
   },
   "outputs": [
    {
     "name": "stdout",
     "output_type": "stream",
     "text": [
      "['こんにちはこんにちは']\n"
     ]
    }
   ],
   "source": [
    "\"\"\"問135\"\"\"\n",
    "\n",
    "with open('c:/cit/test.txt', 'r', encoding='utf-8') as test_file:\n",
    "    for line in test_file:\n",
    "        myData = line.split(',')\n",
    "        print(myData)"
   ]
  },
  {
   "cell_type": "code",
   "execution_count": 27,
   "metadata": {
    "collapsed": false
   },
   "outputs": [
    {
     "name": "stdout",
     "output_type": "stream",
     "text": [
      "['こんにちはこんにちは']\n"
     ]
    }
   ],
   "source": [
    "\"\"\"問136\"\"\"\n",
    "\n",
    "with open('c:/cit/test.txt', 'r', encoding='utf-8') as test_file:\n",
    "    for line in test_file:\n",
    "        myData = line.strip().split(',')\n",
    "        print(myData)"
   ]
  },
  {
   "cell_type": "code",
   "execution_count": null,
   "metadata": {
    "collapsed": true
   },
   "outputs": [],
   "source": []
  }
 ],
 "metadata": {
  "kernelspec": {
   "display_name": "Python 3",
   "language": "python",
   "name": "python3"
  },
  "language_info": {
   "codemirror_mode": {
    "name": "ipython",
    "version": 3
   },
   "file_extension": ".py",
   "mimetype": "text/x-python",
   "name": "python",
   "nbconvert_exporter": "python",
   "pygments_lexer": "ipython3",
   "version": "3.6.0"
  }
 },
 "nbformat": 4,
 "nbformat_minor": 2
}
