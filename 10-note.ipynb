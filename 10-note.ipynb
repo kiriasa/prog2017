{
 "cells": [
  {
   "cell_type": "code",
   "execution_count": 12,
   "metadata": {
    "collapsed": false
   },
   "outputs": [
    {
     "data": {
      "text/plain": [
       "'名前は太郎,年齢は100です'"
      ]
     },
     "execution_count": 12,
     "metadata": {},
     "output_type": "execute_result"
    }
   ],
   "source": [
    "'名前は{0},年齢は{1}です'.format('太郎',100)                      \n",
    "#こっちのがいい"
   ]
  },
  {
   "cell_type": "code",
   "execution_count": 13,
   "metadata": {
    "collapsed": false
   },
   "outputs": [
    {
     "data": {
      "text/plain": [
       "'名前は太郎,年齢は100です'"
      ]
     },
     "execution_count": 13,
     "metadata": {},
     "output_type": "execute_result"
    }
   ],
   "source": [
    "'名前は'+'太郎'+',年齢は'+str(100)+'です'\n",
    "#こっちだめ"
   ]
  },
  {
   "cell_type": "markdown",
   "metadata": {},
   "source": [
    "SQLインジェクション　\n",
    "#これはCPを攻撃できる\n",
    "#↑↑は攻撃できなけど↑は攻撃できる"
   ]
  },
  {
   "cell_type": "markdown",
   "metadata": {},
   "source": [
    "globalizationとlocalization\n",
    "#前者は日本語でも英語でもOKなプログラム(↑↑のプログラム)\n",
    "#後者は英語作ってから日本語版をつくるみたいなプログラム"
   ]
  },
  {
   "cell_type": "code",
   "execution_count": 16,
   "metadata": {
    "collapsed": false
   },
   "outputs": [
    {
     "name": "stdout",
     "output_type": "stream",
     "text": [
      " 何か入力してください：ポリプロピレン樹脂\n",
      " 入力されたのは「ポリプロピレン樹脂」です。\n"
     ]
    }
   ],
   "source": [
    "\"\"\"問121\"\"\"\n",
    "\n",
    "myStr = input(' 何か入力してください：')\n",
    "print(' 入力されたのは「{0}」です。'.format(myStr))"
   ]
  },
  {
   "cell_type": "code",
   "execution_count": 21,
   "metadata": {
    "collapsed": false
   },
   "outputs": [
    {
     "name": "stdout",
     "output_type": "stream",
     "text": [
      " こんにちは\n",
      " 身長（m）？ 1.7\n",
      " 身長は1.7m ですね\n",
      " 体重（kg）？ 60\n",
      " 体重は60kg ですね\n",
      "BMI は20.761245674740486です\n",
      " 約20.8です\n"
     ]
    }
   ],
   "source": [
    "print(' こんにちは')\n",
    "#身長を文字列として入力\n",
    "h = input(' 身長（m）？ ')\n",
    "print(' 身長は{0}m ですね'.format(h))\n",
    "#体重の文字列として入力\n",
    "w = input(' 体重（kg）？ ')\n",
    "print(' 体重は{0}kg ですね'.format(w))\n",
    "#BMI の計算\n",
    "bmi = float(w) / float(h) ** 2\n",
    "#文字列として入力したので数字に直さなければならない→flout\n",
    "#BMI の表示\n",
    "print('BMI は{0}です'.format(bmi))\n",
    "print(' 約{0:.1f}です'.format(bmi))　#小数点第一位まで表示しろ"
   ]
  },
  {
   "cell_type": "code",
   "execution_count": null,
   "metadata": {
    "collapsed": true
   },
   "outputs": [],
   "source": [
    "h = '1.7'\n",
    "h+1\n",
    "#これじゃエラー"
   ]
  },
  {
   "cell_type": "code",
   "execution_count": 25,
   "metadata": {
    "collapsed": false
   },
   "outputs": [
    {
     "data": {
      "text/plain": [
       "2.7"
      ]
     },
     "execution_count": 25,
     "metadata": {},
     "output_type": "execute_result"
    }
   ],
   "source": [
    "h = '1.7'\n",
    "float(h)+1"
   ]
  },
  {
   "cell_type": "markdown",
   "metadata": {},
   "source": [
    "\"\"\"問123\"\"\"\n",
    "for，if，while といったキーワードで始まる行は必ず(コロン)で終わり，次の行は行頭で(タブ)キーを使っ\n",
    "てインデントします。"
   ]
  },
  {
   "cell_type": "code",
   "execution_count": null,
   "metadata": {
    "collapsed": true
   },
   "outputs": [],
   "source": [
    "\"\"\"問124\"\"\"\n",
    "\n",
    "sample_dic={'A':100,'B':200}\n"
   ]
  },
  {
   "cell_type": "markdown",
   "metadata": {},
   "source": [
    "\"\"\"問125\"\"\"\n",
    "条件が成立するときだけ処理を実行するには，if 文を使います。条件が成立しなかったときの処理を追加するに\n",
    "は，if 文の後に，（else）で新しいブロックを作ります。条件が成立しなかった場合にさらに新たな条件で絞り込むには，\n",
    "（elif）を使います。"
   ]
  },
  {
   "cell_type": "markdown",
   "metadata": {},
   "source": [
    "\"\"\"問126\"\"\"\n",
    "while 文やfor 文の途中で繰り返し処理を終了し，ブロックを抜け出したいときは，キーワード（break）を使い，\n",
    "次の繰り返し処理へスキップしたいときは，（continue）を使います。"
   ]
  },
  {
   "cell_type": "markdown",
   "metadata": {},
   "source": [
    "こんにちはと送りたい時には何パケットかかってるでしょうか?\n",
    "1文字3バイトで計15バイト必要です"
   ]
  },
  {
   "cell_type": "code",
   "execution_count": 26,
   "metadata": {
    "collapsed": false
   },
   "outputs": [
    {
     "data": {
      "text/plain": [
       "b' \\xe3\\x81\\x82'"
      ]
     },
     "execution_count": 26,
     "metadata": {},
     "output_type": "execute_result"
    }
   ],
   "source": [
    "\"\"\"問127\"\"\"\n",
    "\n",
    "' あ'.encode('utf-8')\n",
    "#16進数\n",
    "#16進数で6桁なので3バイト"
   ]
  },
  {
   "cell_type": "code",
   "execution_count": 27,
   "metadata": {
    "collapsed": false
   },
   "outputs": [
    {
     "data": {
      "text/plain": [
       "b' \\x82\\xa0'"
      ]
     },
     "execution_count": 27,
     "metadata": {},
     "output_type": "execute_result"
    }
   ],
   "source": [
    "\"\"\"問127\"\"\"\n",
    "\n",
    "' あ'.encode('cp932')\n"
   ]
  },
  {
   "cell_type": "code",
   "execution_count": null,
   "metadata": {
    "collapsed": true
   },
   "outputs": [],
   "source": []
  }
 ],
 "metadata": {
  "kernelspec": {
   "display_name": "Python 3",
   "language": "python",
   "name": "python3"
  },
  "language_info": {
   "codemirror_mode": {
    "name": "ipython",
    "version": 3
   },
   "file_extension": ".py",
   "mimetype": "text/x-python",
   "name": "python",
   "nbconvert_exporter": "python",
   "pygments_lexer": "ipython3",
   "version": "3.6.0"
  }
 },
 "nbformat": 4,
 "nbformat_minor": 2
}
